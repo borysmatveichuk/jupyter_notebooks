{
 "cells": [
  {
   "cell_type": "markdown",
   "id": "6d7b7c6d-cfd4-4e72-9cf9-021507f6e194",
   "metadata": {},
   "source": [
    "# Data Science Tools and Ecosystem"
   ]
  },
  {
   "cell_type": "markdown",
   "id": "ec77d106-4f92-48bd-87ec-f0cf8617780b",
   "metadata": {},
   "source": [
    "In this notebook, Data Science Tools and Ecosystem are summarized."
   ]
  },
  {
   "cell_type": "markdown",
   "id": "cbd2fc50-0481-4f46-b365-37c36c9d0f21",
   "metadata": {},
   "source": [
    "**Objectives:**\n",
    "- List popular languages for Data Science\n",
    "- List commonly used libraries used by Data Science\n",
    "- List tools for Data Science  "
   ]
  },
  {
   "cell_type": "markdown",
   "id": "713f4974-6ad7-4a9e-ba36-508d908c8f03",
   "metadata": {},
   "source": [
    "Some of the popular languages that Data Scientists use are:\n",
    "1. Python\n",
    "2. R\n",
    "3. SQL\n",
    "4. Scala\n",
    "5. Java\n",
    "6. C++\n",
    "7. Julia "
   ]
  },
  {
   "cell_type": "markdown",
   "id": "96e73468-8943-4c45-b7d1-7b92d831d455",
   "metadata": {},
   "source": [
    "Some of the commonly used libraries used by Data Scientists include:\n",
    "1. Pandas\n",
    "2. Matpotlib\n",
    "3. Seaborn\n",
    "4. Scikit-learn\n",
    "5. Keras\n",
    "6. TensorFlow"
   ]
  },
  {
   "cell_type": "markdown",
   "id": "480cee1f-a475-4132-9af7-b213dc4095cd",
   "metadata": {},
   "source": [
    "| Data Science Tools |\n",
    "|------------------- |\n",
    "|Jupiter Lab|\n",
    "|Anaconda|\n",
    "|R Srudio |"
   ]
  },
  {
   "cell_type": "markdown",
   "id": "f5de0a60-00a1-4f38-8780-0cf68642b59c",
   "metadata": {},
   "source": [
    "### Below are a few examples of evaluating arithmetic expressions in Python"
   ]
  },
  {
   "cell_type": "code",
   "execution_count": 1,
   "id": "32780b7d-776f-474c-ad9f-2ac65b19de05",
   "metadata": {},
   "outputs": [
    {
     "data": {
      "text/plain": [
       "17"
      ]
     },
     "execution_count": 1,
     "metadata": {},
     "output_type": "execute_result"
    }
   ],
   "source": [
    "# This a simple arithmetic expression to multiply then add integers\n",
    "(3*4)+5"
   ]
  },
  {
   "cell_type": "code",
   "execution_count": 2,
   "id": "845af830-000e-4a80-960a-358ec36fc0da",
   "metadata": {
    "scrolled": true
   },
   "outputs": [
    {
     "data": {
      "text/plain": [
       "3.3333333333333335"
      ]
     },
     "execution_count": 2,
     "metadata": {},
     "output_type": "execute_result"
    }
   ],
   "source": [
    "# This will convert 200 minutes to hours by diving by 60\n",
    "200 / 60"
   ]
  },
  {
   "cell_type": "markdown",
   "id": "e11ba181-bd1c-45a5-8c61-d31d9198710c",
   "metadata": {},
   "source": [
    "## Author\n",
    "Borys Matveichuk"
   ]
  }
 ],
 "metadata": {
  "kernelspec": {
   "display_name": "Python 3 (ipykernel)",
   "language": "python",
   "name": "python3"
  },
  "language_info": {
   "codemirror_mode": {
    "name": "ipython",
    "version": 3
   },
   "file_extension": ".py",
   "mimetype": "text/x-python",
   "name": "python",
   "nbconvert_exporter": "python",
   "pygments_lexer": "ipython3",
   "version": "3.11.7"
  }
 },
 "nbformat": 4,
 "nbformat_minor": 5
}
